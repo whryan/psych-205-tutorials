{
 "cells": [
  {
   "cell_type": "markdown",
   "metadata": {},
   "source": [
    "# Psych 205 - Tutorial 1\n",
    "## Learning about loops, graphics and a little exercise on SEM\n",
    "\n",
    "This is the first tutorial exercise from Psych 205, recreated in an R Jupyter notebook. Ordinarily you would create new plot windows for every single plot, but in this case we are going to just plot them inline since that's the whole idea with iPython notebooks. "
   ]
  },
  {
   "cell_type": "code",
   "execution_count": 25,
   "metadata": {},
   "outputs": [
    {
     "name": "stdout",
     "output_type": "stream",
     "text": [
      "package 'Hmisc' successfully unpacked and MD5 sums checked\n",
      "\n",
      "The downloaded binary packages are in\n",
      "\tC:\\Users\\William\\AppData\\Local\\Temp\\Rtmpa0ndY9\\downloaded_packages\n"
     ]
    },
    {
     "name": "stderr",
     "output_type": "stream",
     "text": [
      "Loading required package: Hmisc\n",
      "Warning message:\n",
      "\"package 'Hmisc' was built under R version 3.4.3\"Loading required package: lattice\n",
      "Loading required package: survival\n",
      "Loading required package: Formula\n",
      "Loading required package: ggplot2\n",
      "\n",
      "Attaching package: 'Hmisc'\n",
      "\n",
      "The following objects are masked from 'package:base':\n",
      "\n",
      "    format.pval, units\n",
      "\n"
     ]
    }
   ],
   "source": [
    "# Set CRAN Repo manually - you have to do this for R Jupyter notebooks\n",
    "options(repos = \"http://cran.us.r-project.org\")\n",
    "\n",
    "#install and require Hmisc\n",
    "install.packages(\"Hmisc\")\n",
    "require(Hmisc)"
   ]
  },
  {
   "cell_type": "code",
   "execution_count": 27,
   "metadata": {},
   "outputs": [
    {
     "data": {
      "image/png": "[encoded data removed]",
      "text/plain": [
       "plot without title"
      ]
     },
     "metadata": {},
     "output_type": "display_data"
    }
   ],
   "source": [
    "set.seed(1)\n",
    "\n",
    "# Define a vector x (a one dimensional array that has 10 elemens)\n",
    "\n",
    "x <- array(0,10)\n",
    "\n",
    "# An alternative to doing this is as follows:\n",
    "\n",
    "x <- rep(0,10)\n",
    "\n",
    "t <- seq(1,10)\n",
    "\n",
    "# Use a for loop to change the value of x. Here i is the \"index\" and it takes values from 1 to 10\n",
    "for (i in 1:10) {\n",
    "x[i] <- i*3 \n",
    "}\n",
    "\n",
    "## You can do this more computationally efficiently, as follows (for loops in R are slow):\n",
    "x[1:10] <- seq(3,30,by=3)\n",
    "\n",
    "sampMeans <- rep(0,100)\n",
    "sampMeans[1:100] <- sapply( 1:100, function(x) mean(rnorm(100,mean=100,sd=10)) ) # If you need something to actually vary in your function, put the x where the varying needs to happen (for example, if you wanted some different means, you could write mean=x)\n",
    "\n",
    "plot(t, x)\n",
    "\n",
    "# We can generate 100 samples from a normal distribution with mean 100 and standard deviation 10\n",
    "\n",
    "xSamp <- rnorm(100,mean=100, sd=10)\n",
    "meanSamp <- mean(xSamp)\n"
   ]
  },
  {
   "cell_type": "markdown",
   "metadata": {},
   "source": [
    "## Exercise 1. Check the values of xSamp, draw a histogram (hist function), show the mean on the histogram as a dashed vertical line (abline)\n"
   ]
  },
  {
   "cell_type": "code",
   "execution_count": 29,
   "metadata": {
    "scrolled": true
   },
   "outputs": [
    {
     "data": {
      "text/plain": [
       "xSamp \n",
       "       n  missing distinct     Info     Mean      Gmd      .05      .10 \n",
       "     100        0      100        1    100.1    8.965    88.07    90.32 \n",
       "     .25      .50      .75      .90      .95 \n",
       "   95.16    98.98   105.26   110.48   112.55 \n",
       "\n",
       "lowest :  83.83237  84.04919  84.67366  85.59168  87.29945\n",
       "highest: 112.59318 112.67138 115.99584 118.57780 119.33104"
      ]
     },
     "metadata": {},
     "output_type": "display_data"
    },
    {
     "data": {
      "image/png": "[encoded data removed]",
      "text/plain": [
       "Plot with title \"Histogram of xSamp\""
      ]
     },
     "metadata": {},
     "output_type": "display_data"
    }
   ],
   "source": [
    "describe(xSamp)\n",
    "\n",
    "hist(xSamp)\n",
    "abline(v=mean(xSamp), col=\"blue\", lty=2)"
   ]
  },
  {
   "cell_type": "markdown",
   "metadata": {},
   "source": [
    "## Exercise 2. Write a loop to generate 100 samples from the same normal distribution (each of 100 data points) and save the sample mean in an array\n"
   ]
  },
  {
   "cell_type": "code",
   "execution_count": 31,
   "metadata": {},
   "outputs": [
    {
     "data": {
      "text/html": [
       "<ol class=list-inline>\n",
       "\t<li>101.821076902714</li>\n",
       "\t<li>99.4862546103122</li>\n",
       "\t<li>101.945506902993</li>\n",
       "\t<li>101.752938329722</li>\n",
       "\t<li>99.8865401420921</li>\n",
       "\t<li>99.3665095117891</li>\n",
       "</ol>\n"
      ],
      "text/latex": [
       "\\begin{enumerate*}\n",
       "\\item 101.821076902714\n",
       "\\item 99.4862546103122\n",
       "\\item 101.945506902993\n",
       "\\item 101.752938329722\n",
       "\\item 99.8865401420921\n",
       "\\item 99.3665095117891\n",
       "\\end{enumerate*}\n"
      ],
      "text/markdown": [
       "1. 101.821076902714\n",
       "2. 99.4862546103122\n",
       "3. 101.945506902993\n",
       "4. 101.752938329722\n",
       "5. 99.8865401420921\n",
       "6. 99.3665095117891\n",
       "\n",
       "\n"
      ],
      "text/plain": [
       "[1] 101.82108  99.48625 101.94551 101.75294  99.88654  99.36651"
      ]
     },
     "metadata": {},
     "output_type": "display_data"
    }
   ],
   "source": [
    "means = 1:100\n",
    "\n",
    "for (i in 1:100){\n",
    "  means[i] = mean(rnorm(100, mean=100, sd=10))\n",
    "}\n",
    "\n",
    "head(means)"
   ]
  },
  {
   "cell_type": "markdown",
   "metadata": {},
   "source": [
    "## Exercise 3. On a new window (dev.new()). Display the distribution of sample mean in a histogram and show the mean of means as a vertical dashed line. Compare to the histogram of samples. \n"
   ]
  },
  {
   "cell_type": "code",
   "execution_count": 32,
   "metadata": {},
   "outputs": [
    {
     "data": {
      "image/png": "[encoded data removed]",
      "text/plain": [
       "Plot with title \"Histogram of means\""
      ]
     },
     "metadata": {},
     "output_type": "display_data"
    }
   ],
   "source": [
    "hist(means)\n",
    "abline(v=mean(means), col=\"blue\", lty=2)"
   ]
  },
  {
   "cell_type": "markdown",
   "metadata": {},
   "source": [
    "## Exercise 4. Calculate the standard deviation (sd) of this DOSM. Does the number agree with the theoretical value?\n"
   ]
  },
  {
   "cell_type": "code",
   "execution_count": 12,
   "metadata": {},
   "outputs": [
    {
     "data": {
      "text/html": [
       "0.794883326387026"
      ],
      "text/latex": [
       "0.794883326387026"
      ],
      "text/markdown": [
       "0.794883326387026"
      ],
      "text/plain": [
       "[1] 0.7948833"
      ]
     },
     "metadata": {},
     "output_type": "display_data"
    }
   ],
   "source": [
    "sd(means)"
   ]
  },
  {
   "cell_type": "markdown",
   "metadata": {},
   "source": [
    "This $/mu$ does not agree with the theoretical value. This is expected, because you are only doing 100 samples. "
   ]
  },
  {
   "cell_type": "markdown",
   "metadata": {},
   "source": [
    "## Exercise 5. Use the arrows command to draw an arrow showing the sem.\n"
   ]
  },
  {
   "cell_type": "code",
   "execution_count": 46,
   "metadata": {},
   "outputs": [
    {
     "data": {
      "image/png": "[encoded data removed]",
      "text/plain": [
       "Plot with title \"Histogram of means\""
      ]
     },
     "metadata": {},
     "output_type": "display_data"
    }
   ],
   "source": [
    "sem = sd(means)/sqrt(length(means))\n",
    "hist(means)\n",
    "abline(v=mean(means), col=\"blue\", lty=2)\n",
    "arrows((-sem+mean(means)),15,(sem+mean(means)),15, length =.1, code=3, col=\"red\") #x0/y0 and x1/y1"
   ]
  },
  {
   "cell_type": "markdown",
   "metadata": {},
   "source": [
    "## Exercise 6.  Using a new \"for loop\" calculate the sample mean for samples of 10,20,50,100,200,500,1000 sample size.\n"
   ]
  },
  {
   "cell_type": "code",
   "execution_count": 47,
   "metadata": {
    "collapsed": true
   },
   "outputs": [],
   "source": [
    "samples = c(10,20,50,100,200,500,1000)\n",
    "loops = 1:length(samples)\n",
    "new_means = vector('numeric', length(samples))\n",
    "  \n",
    "for (i in loops) {\n",
    "  new_means[i] = mean(rnorm(samples[i],mean=100,sd=10))\n",
    "}\n",
    "\n",
    "#QUESTION - why does this not give the same results when repeated?\n",
    "\n",
    "\n"
   ]
  },
  {
   "cell_type": "markdown",
   "metadata": {},
   "source": [
    "## Exercise 7. Now try doing this using the sapply syntax above. It's okay to rotely copy it at this point. Slowly learning to extend this construct to various settings will help make your use of R much less frustrating (if initially harder to read).\n"
   ]
  },
  {
   "cell_type": "code",
   "execution_count": 57,
   "metadata": {
    "collapsed": true
   },
   "outputs": [],
   "source": [
    "sampMeans <- rep(0,length(samples))\n",
    "sampMeans[1:length(samples)] <- sapply( samples, function(x) mean(rnorm(x,mean=100,sd=10)) )\n",
    "\n",
    "\n"
   ]
  },
  {
   "cell_type": "markdown",
   "metadata": {},
   "source": [
    "## Exercise 8. On a new plot, plot you sample mean as a function of sample size.\n",
    "### Add three curves to your plot that correspond to the theoretical mean (solid line) and the range of 95% confidence for the sample mean (two dotted lines)\n"
   ]
  },
  {
   "cell_type": "code",
   "execution_count": 58,
   "metadata": {},
   "outputs": [
    {
     "data": {
      "image/png": "[encoded data removed]",
      "text/plain": [
       "plot without title"
      ]
     },
     "metadata": {},
     "output_type": "display_data"
    }
   ],
   "source": [
    "plot(samples, sampMeans)\n",
    "abline(h=100, col=\"blue\", lty=3)\n"
   ]
  },
  {
   "cell_type": "code",
   "execution_count": null,
   "metadata": {
    "collapsed": true
   },
   "outputs": [],
   "source": []
  }
 ],
 "metadata": {
  "anaconda-cloud": {},
  "kernelspec": {
   "display_name": "R",
   "language": "R",
   "name": "ir"
  },
  "language_info": {
   "codemirror_mode": "r",
   "file_extension": ".r",
   "mimetype": "text/x-r-source",
   "name": "R",
   "pygments_lexer": "r",
   "version": "3.4.2"
  }
 },
 "nbformat": 4,
 "nbformat_minor": 1
}
